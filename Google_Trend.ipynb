{
  "cells": [
    {
      "cell_type": "markdown",
      "id": "a76efb7c",
      "metadata": {
        "id": "a76efb7c"
      },
      "source": [
        "# Google Trend Spike Detection\n",
        "\n",
        ""    ]
    },
    {
      "cell_type": "markdown",
      "id": "5d6d03e1",
      "metadata": {
        "id": "5d6d03e1"
      },
      "source": [
        "## 0. Setup"
      ]
    },
    {
      "cell_type": "code",
      "source": [
        "import os\n",
        "from google.colab import drive\n",
        "import pandas as pd\n",
        "drive.mount('/content/drive')"
      ],
      "metadata": {
        "colab": {
          "base_uri": "https://localhost:8080/"
        },
        "id": "672SgHN3oZ6o",
        "outputId": "ec4820d2-c664-44c8-bffe-f139fd2b3316"
      },
      "id": "672SgHN3oZ6o",
      "execution_count": 1,
      "outputs": [
        {
          "output_type": "stream",
          "name": "stdout",
          "text": [
            "Mounted at /content/drive\n"
          ]
        }
      ]
    },
    {
      "cell_type": "code",
      "source": [
        "import numpy as np\n",
        "import pandas as pd\n",
        "import lightgbm as lgb\n",
        "import matplotlib.pyplot as plt\n",
        "from sklearn.metrics import mean_squared_error, r2_score, roc_auc_score, average_precision_score, precision_recall_curve, f1_score\n",
        "from sklearn.preprocessing import StandardScaler\n",
        "import tensorflow as tf\n",
        "from tensorflow.keras import Sequential\n",
        "from tensorflow.keras.layers import GRU, Dense, Dropout\n",
        "from tensorflow.keras.callbacks import EarlyStopping\n",
        "from itertools import product\n",
        "import warnings\n",
        "warnings.filterwarnings(\"ignore\")\n",
        "\n",
        "RANDOM_STATE = 42\n",
        "np.random.seed(RANDOM_STATE)\n",
        "tf.random.set_seed(RANDOM_STATE)\n",
        "\n",
        "plt.rcParams[\"figure.figsize\"] = (10,5)\n",
        "\n",
        "\n"
      ],
      "metadata": {
        "id": "WBB8rq1EO2-2"
      },
      "id": "WBB8rq1EO2-2",
      "execution_count": 2,
      "outputs": []
    },
    {
      "cell_type": "code",
      "source": [
        "csv_path = \"/content/drive/MyDrive/bigq.csv\"\n",
        "df = pd.read_csv(csv_path)\n",
        "\n",
        "df[\"term\"] = df[\"term\"].astype(str).str.strip().str.lower()\n",
        "df[\"week\"] = pd.to_datetime(df[\"week\"], errors=\"coerce\")\n",
        "df[\"weekly_score\"] = pd.to_numeric(df[\"weekly_score\"], errors=\"coerce\")\n",
        "\n",
        "# Drop rows missing critical keys\n",
        "df = df.dropna(subset=[\"term\",\"week\"])\n",
        "\n",
        "# Repair weekly_score per term (fix gaps), then recompute a SAFE normalization\n",
        "def repair_scores(g):\n",
        "    s = g[\"weekly_score\"].ffill().bfill()   # fill gaps inside term\n",
        "    return g.assign(weekly_score=s)\n",
        "\n",
        "df = df.sort_values([\"term\",\"week\"]).groupby(\"term\", group_keys=False).apply(repair_scores)\n",
        "\n",
        "def safe_minmax(s):\n",
        "    # 0..100 per-term; if constant series, return zeros instead of NaN\n",
        "    s_min, s_max = s.min(), s.max()\n",
        "    rng = s_max - s_min\n",
        "    if not np.isfinite(rng) or rng < 1e-9:\n",
        "        return pd.Series(np.zeros(len(s), dtype=float), index=s.index)\n",
        "    return 100.0 * (s - s_min) / (rng + 1e-9)\n",
        "\n",
        "df[\"weekly_score_norm\"] = df.groupby(\"term\")[\"weekly_score\"].transform(safe_minmax)\n",
        "\n",
        "# no NaNs now\n",
        "assert df[\"weekly_score_norm\"].notna().all(), \"weekly_score_norm still has NaNs; check input weekly_score.\"\n",
        "\n",
        "# Create features (lags + seasonality + motion)\n",
        "MAX_LAG = 12\n",
        "for k in range(1, MAX_LAG+1):\n",
        "    df[f\"lag_{k}\"] = df.groupby(\"term\")[\"weekly_score_norm\"].shift(k)\n",
        "\n",
        "df[\"month\"]   = df[\"week\"].dt.month\n",
        "df[\"year\"]    = df[\"week\"].dt.year\n",
        "woy = df[\"week\"].dt.isocalendar().week.astype(int)\n",
        "df[\"sin_woy\"] = np.sin(2*np.pi*woy/52.0)\n",
        "df[\"cos_woy\"] = np.cos(2*np.pi*woy/52.0)\n",
        "\n",
        "def add_motion(g, col=\"weekly_score_norm\"):\n",
        "    g = g.sort_values(\"week\").copy()\n",
        "    g[\"diff_1\"] = g[col].diff(1)\n",
        "    g[\"diff_4\"] = g[col].diff(4)\n",
        "    g[\"pct_1\"]  = g[col].pct_change(1).replace([np.inf, -np.inf], 0.0)\n",
        "    g[\"roll_mean_4\"] = g[col].rolling(4).mean()\n",
        "    g[\"roll_mean_8\"] = g[col].rolling(8).mean()\n",
        "    g[\"roll_std_8\"]  = g[col].rolling(8).std()\n",
        "    return g\n",
        "\n",
        "df = df.groupby(\"term\", group_keys=False).apply(add_motion)\n",
        "\n"
      ],
      "metadata": {
        "id": "nBLPqerSZP6t"
      },
      "id": "nBLPqerSZP6t",
      "execution_count": 3,
      "outputs": []
    },
    {
      "cell_type": "code",
      "source": [
        "# Drop structural NaNs from lags/rolls (first weeks per term)\n",
        "lag_cols   = [c for c in df.columns if c.startswith(\"lag_\")]\n",
        "motion_req = [c for c in [\"roll_mean_4\",\"roll_mean_8\",\"roll_std_8\"] if c in df.columns]\n",
        "drop_subset = lag_cols + motion_req\n",
        "df = df.dropna(subset=drop_subset).reset_index(drop=True)\n",
        "\n",
        "# Term-level stats (compact identity signals)\n",
        "df[\"term_mean\"] = df.groupby(\"term\")[\"weekly_score_norm\"].transform(\"mean\")\n",
        "df[\"term_std\"]  = df.groupby(\"term\")[\"weekly_score_norm\"].transform(\"std\").fillna(0.0)\n",
        "\n",
        "# Per-term splits: last 12 = test, previous 12 = valid\n",
        "VALID_W, TEST_W = 12, 12\n",
        "df[\"split\"] = \"train\"\n",
        "for t, g in df.groupby(\"term\"):\n",
        "    idx = g.index\n",
        "    n = len(idx)\n",
        "    if n >= TEST_W:\n",
        "        df.loc[idx[-TEST_W:], \"split\"] = \"test\"\n",
        "    if n >= TEST_W + VALID_W:\n",
        "        df.loc[idx[-(TEST_W+VALID_W):-TEST_W], \"split\"] = \"valid\"\n",
        "\n",
        "# Build LightGBM feature list from what exists\n",
        "seasonal   = [c for c in [\"month\",\"year\",\"sin_woy\",\"cos_woy\"] if c in df.columns]\n",
        "motion     = [c for c in [\"diff_1\",\"diff_4\",\"pct_1\",\"roll_mean_4\",\"roll_mean_8\",\"roll_std_8\"] if c in df.columns]\n",
        "term_stats = [c for c in [\"term_mean\",\"term_std\"] if c in df.columns]\n",
        "features_lgb = lag_cols + seasonal + term_stats + motion\n",
        "target_col = \"weekly_score_norm\"\n",
        "\n",
        "# Clean splits (drop any rows with NaNs in selected features/target)\n",
        "df_clean = df.dropna(subset=features_lgb + [target_col]).copy()\n",
        "train = df_clean[df_clean[\"split\"]==\"train\"]\n",
        "valid = df_clean[df_clean[\"split\"]==\"valid\"]\n",
        "test  = df_clean[df_clean[\"split\"]==\"test\"]\n",
        "\n",
        "X_train, y_train = train[features_lgb], train[target_col]\n",
        "X_valid, y_valid = valid[features_lgb], valid[target_col]\n",
        "X_test,  y_test  = test[features_lgb],  test[target_col]\n",
        "\n",
        "# Fill any residual feature NaNs with per-column medians from train\n",
        "med = X_train.median(numeric_only=True)\n",
        "X_train = X_train.apply(pd.to_numeric, errors=\"coerce\").fillna(med)\n",
        "X_valid = X_valid.apply(pd.to_numeric, errors=\"coerce\").fillna(med)\n",
        "X_test  = X_test.apply(pd.to_numeric,  errors=\"coerce\").fillna(med)\n",
        "\n",
        "print(f\"Shapes : Train: {X_train.shape}, Valid: {X_valid.shape}, Test: {X_test.shape}\")\n",
        "print(\"Features used:\", features_lgb[:10], \"total:\", len(features_lgb))\n"
      ],
      "metadata": {
        "colab": {
          "base_uri": "https://localhost:8080/"
        },
        "id": "TtAe4OmVZZTh",
        "outputId": "34de3328-b770-4531-ff6e-005f8598128d"
      },
      "id": "TtAe4OmVZZTh",
      "execution_count": 4,
      "outputs": [
        {
          "output_type": "stream",
          "name": "stdout",
          "text": [
            "Shapes : Train: (5791, 24), Valid: (309, 24), Test: (306, 24)\n",
            "Features used: ['lag_1', 'lag_2', 'lag_3', 'lag_4', 'lag_5', 'lag_6', 'lag_7', 'lag_8', 'lag_9', 'lag_10'] total: 24\n"
          ]
        }
      ]
    },
    {
      "cell_type": "code",
      "source": [
        "model = lgb.LGBMRegressor(\n",
        "    objective=\"regression\",\n",
        "    n_estimators=4000,\n",
        "    learning_rate=0.02,\n",
        "    num_leaves=127,\n",
        "    min_data_in_leaf=10,\n",
        "    subsample=0.9,\n",
        "    colsample_bytree=0.9,\n",
        "    random_state=42,\n",
        "    verbose=-1\n",
        ")\n",
        "\n",
        "model.fit(\n",
        "    X_train, y_train,\n",
        "    eval_set=[(X_valid, y_valid)],\n",
        "    eval_metric=\"rmse\",\n",
        "    callbacks=[lgb.early_stopping(stopping_rounds=200), lgb.log_evaluation(100)]\n",
        ")\n",
        "\n",
        "pred_val  = model.predict(X_valid, num_iteration=model.best_iteration_)\n",
        "pred_test = model.predict(X_test,  num_iteration=model.best_iteration_)\n",
        "\n",
        "rmse_val  = np.sqrt(mean_squared_error(y_valid, pred_val))\n",
        "rmse_test = np.sqrt(mean_squared_error(y_test,  pred_test))\n",
        "r2_val    = r2_score(y_valid, pred_val)\n",
        "r2_test   = r2_score(y_test,  pred_test)\n",
        "\n",
        "print(f\"VALID: RMSE={rmse_val:.2f}, R²={r2_val:.3f}\")\n",
        "print(f\"TEST : RMSE={rmse_test:.2f}, R²={r2_test:.3f}\")\n"
      ],
      "metadata": {
        "colab": {
          "base_uri": "https://localhost:8080/"
        },
        "id": "oCoVP4o5ay_S",
        "outputId": "05ca6db5-98d9-4634-8727-0c512d2f8860"
      },
      "id": "oCoVP4o5ay_S",
      "execution_count": 5,
      "outputs": [
        {
          "output_type": "stream",
          "name": "stdout",
          "text": [
            "Training until validation scores don't improve for 200 rounds\n",
            "[100]\tvalid_0's rmse: 3.04302\tvalid_0's l2: 9.25996\n",
            "[200]\tvalid_0's rmse: 1.72622\tvalid_0's l2: 2.97983\n",
            "[300]\tvalid_0's rmse: 1.54967\tvalid_0's l2: 2.40146\n",
            "[400]\tvalid_0's rmse: 1.53238\tvalid_0's l2: 2.34819\n",
            "[500]\tvalid_0's rmse: 1.54326\tvalid_0's l2: 2.38167\n",
            "Early stopping, best iteration is:\n",
            "[373]\tvalid_0's rmse: 1.52859\tvalid_0's l2: 2.3366\n",
            "VALID: RMSE=1.53, R²=0.987\n",
            "TEST : RMSE=2.07, R²=0.994\n"
          ]
        }
      ]
    },
    {
      "cell_type": "code",
      "source": [
        "eval_df = test[[\"term\",\"week\"]].copy()\n",
        "eval_df[\"y\"] = y_test.values\n",
        "eval_df[\"yhat\"] = pred_test\n",
        "\n",
        "per_term_rmse = eval_df.groupby(\"term\").apply(\n",
        "    lambda g: np.sqrt(mean_squared_error(g[\"y\"], g[\"yhat\"]))\n",
        ").sort_values()\n",
        "\n",
        "print(\"Per-term RMSE (best to worst):\")\n",
        "print(per_term_rmse)\n"
      ],
      "metadata": {
        "colab": {
          "base_uri": "https://localhost:8080/"
        },
        "id": "rfhe7gflazB8",
        "outputId": "db30fb9e-c6bf-4e0a-d7f5-510004c63a7f"
      },
      "id": "rfhe7gflazB8",
      "execution_count": 6,
      "outputs": [
        {
          "output_type": "stream",
          "name": "stdout",
          "text": [
            "Per-term RMSE (best to worst):\n",
            "term\n",
            "netflix stock                             0.102405\n",
            "is hulu down                              0.104868\n",
            "premier league                            0.417539\n",
            "mlb draft time                            0.756099\n",
            "barcelona - como                          0.757374\n",
            "disney plus cancelled shows               0.789646\n",
            "netflix pride and prejudice cast          0.794021\n",
            "premier league summer series              0.813012\n",
            "hulu                                      0.840341\n",
            "netflix teaser trailer stranger things    0.857325\n",
            "fc seoul vs barcelona                     1.450331\n",
            "barcelona vs como                         1.450446\n",
            "vissel kobe - barcelona                   1.450533\n",
            "psg - tottenham                           1.451270\n",
            "chelsea - psg                             1.513280\n",
            "harry potter hbo series                   1.528787\n",
            "mlb trade deadline                        1.544973\n",
            "ufc paramount                             1.725878\n",
            "untamed netflix                           1.758665\n",
            "wsg tirol - real madrid                   2.268399\n",
            "hulu alien earth                          2.431076\n",
            "daegu - barcelona                         2.461497\n",
            "real madrid                               3.040384\n",
            "manchester united                         3.269331\n",
            "little league softball world series       4.286014\n",
            "ufc fight night                           5.450895\n",
            "dtype: float64\n"
          ]
        }
      ]
    },
    {
      "cell_type": "code",
      "source": [
        "fi = pd.DataFrame({\n",
        "    \"feature\": X_train.columns,\n",
        "    \"importance\": model.feature_importances_\n",
        "}).sort_values(\"importance\", ascending=False)\n",
        "\n",
        "print(\"Top features:\")\n",
        "print(fi.head(20))\n"
      ],
      "metadata": {
        "colab": {
          "base_uri": "https://localhost:8080/"
        },
        "id": "dGTgx6vjbyij",
        "outputId": "c6021efe-0aad-416a-b1c1-ccbd18cc1af5"
      },
      "id": "dGTgx6vjbyij",
      "execution_count": 7,
      "outputs": [
        {
          "output_type": "stream",
          "name": "stdout",
          "text": [
            "Top features:\n",
            "        feature  importance\n",
            "0         lag_1        8912\n",
            "18       diff_1        6524\n",
            "20        pct_1        4996\n",
            "3         lag_4        3235\n",
            "19       diff_4        2991\n",
            "21  roll_mean_4        2789\n",
            "1         lag_2        2480\n",
            "2         lag_3        2416\n",
            "23   roll_std_8        1603\n",
            "10       lag_11         990\n",
            "7         lag_8         962\n",
            "8         lag_9         957\n",
            "5         lag_6         934\n",
            "4         lag_5         930\n",
            "9        lag_10         927\n",
            "11       lag_12         926\n",
            "6         lag_7         922\n",
            "22  roll_mean_8         783\n",
            "15      cos_woy         754\n",
            "14      sin_woy         682\n"
          ]
        }
      ]
    },
    {
      "cell_type": "code",
      "source": [
        "lgb.plot_importance(model, max_num_features=20)\n",
        "plt.tight_layout(); plt.show()\n"
      ],
      "metadata": {
        "colab": {
          "base_uri": "https://localhost:8080/",
          "height": 507
        },
        "id": "qv1ezOwiazD_",
        "outputId": "1bd4ab34-f80f-4a3f-e280-495d74f21cfc"
      },
      "id": "qv1ezOwiazD_",
      "execution_count": 8,
      "outputs": [
        {
          "output_type": "display_data",
          "data": {
            "text/plain": [
              "<Figure size 1000x500 with 1 Axes>"
            ],
            "image/png": "[encoded data removed]"
          },
          "metadata": {}
        }
      ]
    },
    {
      "cell_type": "code",
      "source": [
        "term_to_plot = eval_df[\"term\"].iloc[0]   # or pick a specific term\n",
        "g = eval_df[eval_df[\"term\"]==term_to_plot].sort_values(\"week\")\n",
        "\n",
        "import matplotlib.pyplot as plt\n",
        "plt.figure(figsize=(10,5))\n",
        "plt.plot(g[\"week\"], g[\"y\"],    label=\"Actual\")\n",
        "plt.plot(g[\"week\"], g[\"yhat\"], label=\"Predicted\")\n",
        "plt.title(f\"LightGBM — {term_to_plot} (test)\")\n",
        "plt.xlabel(\"Week\"); plt.ylabel(\"Normalized score (0–100)\")\n",
        "plt.legend(); plt.tight_layout(); plt.show()\n"
      ],
      "metadata": {
        "colab": {
          "base_uri": "https://localhost:8080/",
          "height": 507
        },
        "id": "dxXa6VwQazGY",
        "outputId": "fb6152de-4647-46fc-909b-7a0f325c74ed"
      },
      "id": "dxXa6VwQazGY",
      "execution_count": 9,
      "outputs": [
        {
          "output_type": "display_data",
          "data": {
            "text/plain": [
              "<Figure size 1000x500 with 1 Axes>"
            ],
            "image/png": "[encoded data removed]"
          },
          "metadata": {}
        }
      ]
    },
    {
      "cell_type": "code",
      "source": [
        "# Spike\n",
        "eval_df[\"resid\"] = (eval_df[\"y\"] - eval_df[\"yhat\"]).abs()\n",
        "thr = eval_df[\"resid\"].mean() + 2*eval_df[\"resid\"].std()\n",
        "eval_df[\"is_spike\"] = (eval_df[\"resid\"] > thr).astype(int)\n",
        "\n",
        "stable = eval_df[eval_df[\"is_spike\"]==0]\n",
        "spikes = eval_df[eval_df[\"is_spike\"]==1]\n",
        "\n",
        "from sklearn.metrics import mean_squared_error\n",
        "rmse_stable = np.sqrt(mean_squared_error(stable[\"y\"], stable[\"yhat\"])) if len(stable) else np.nan\n",
        "rmse_spikes = np.sqrt(mean_squared_error(spikes[\"y\"], spikes[\"yhat\"])) if len(spikes) else np.nan\n",
        "\n",
        "print(f\"Spike threshold: {thr:.2f}\")\n",
        "print(f\"Stable weeks RMSE: {rmse_stable:.2f} (n={len(stable)})\")\n",
        "print(f\"Spike weeks  RMSE: {rmse_spikes:.2f} (n={len(spikes)})\")\n"
      ],
      "metadata": {
        "colab": {
          "base_uri": "https://localhost:8080/"
        },
        "id": "2Vv0-HqIazKl",
        "outputId": "7e972e2c-50cf-4349-c5da-2dc174fda74a"
      },
      "id": "2Vv0-HqIazKl",
      "execution_count": 10,
      "outputs": [
        {
          "output_type": "stream",
          "name": "stdout",
          "text": [
            "Spike threshold: 4.61\n",
            "Stable weeks RMSE: 0.73 (n=286)\n",
            "Spike weeks  RMSE: 7.62 (n=20)\n"
          ]
        }
      ]
    },
    {
      "cell_type": "code",
      "source": [
        "# Predict with LightGBM\n",
        "pred_train = model.predict(X_train, num_iteration=getattr(model, \"best_iteration_\", None))\n",
        "pred_valid = model.predict(X_valid, num_iteration=getattr(model, \"best_iteration_\", None))\n",
        "pred_test  = model.predict(X_test,  num_iteration=getattr(model, \"best_iteration_\", None))\n"
      ],
      "metadata": {
        "id": "YENvfDb5GAqm"
      },
      "id": "YENvfDb5GAqm",
      "execution_count": 11,
      "outputs": []
    },
    {
      "cell_type": "code",
      "source": [
        "# Attach term/week IDs to predictions\n",
        "preds_train = train[[\"term\", \"week\"]].copy()\n",
        "preds_train[\"y\"] = y_train.values\n",
        "preds_train[\"yhat_base\"] = pred_train\n",
        "preds_train[\"split\"] = \"train\"\n",
        "\n",
        "preds_valid = valid[[\"term\", \"week\"]].copy()\n",
        "preds_valid[\"y\"] = y_valid.values\n",
        "preds_valid[\"yhat_base\"] = pred_val\n",
        "preds_valid[\"split\"] = \"valid\"\n",
        "\n",
        "preds_test = test[[\"term\", \"week\"]].copy()\n",
        "preds_test[\"y\"] = y_test.values\n",
        "preds_test[\"yhat_base\"] = pred_test\n",
        "preds_test[\"split\"] = \"test\"\n"
      ],
      "metadata": {
        "id": "RMihe91NQTNx"
      },
      "id": "RMihe91NQTNx",
      "execution_count": 12,
      "outputs": []
    },
    {
      "cell_type": "code",
      "source": [
        "# Ensure preds_* exist\n",
        "assert {\"term\",\"week\",\"y\",\"yhat_base\"}.issubset(set(preds_train.columns))\n",
        "assert {\"term\",\"week\",\"y\",\"yhat_base\"}.issubset(set(preds_valid.columns))\n",
        "assert {\"term\",\"week\",\"y\",\"yhat_base\"}.issubset(set(preds_test.columns))\n",
        "\n",
        "eval_all = pd.concat([\n",
        "    preds_train.assign(split=\"train\"),\n",
        "    preds_valid.assign(split=\"valid\"),\n",
        "    preds_test.assign(split=\"test\")\n",
        "], ignore_index=True).sort_values([\"term\",\"week\"])\n",
        "\n",
        "eval_all[\"resid_abs\"] = (eval_all[\"y\"] - eval_all[\"yhat_base\"]).abs()\n",
        "\n",
        "def robust_thr(s: pd.Series):\n",
        "    s = s.dropna()\n",
        "    if s.empty: return np.inf\n",
        "    med = s.median()\n",
        "    mad = (s - med).abs().median() + 1e-9\n",
        "    return med + 3.5 * 1.4826 * mad   # robust threshold\n",
        "\n",
        "thr_map = (eval_all[eval_all[\"split\"]==\"train\"]\n",
        "           .groupby(\"term\")[\"resid_abs\"].apply(robust_thr))\n",
        "eval_all = eval_all.join(thr_map.rename(\"thr_term\"), on=\"term\")\n",
        "eval_all[\"is_spike_label\"] = (eval_all[\"resid_abs\"] > eval_all[\"thr_term\"]).astype(int)\n",
        "\n",
        "# Attach labels back to preds_*\n",
        "preds_train = preds_train.merge(eval_all[[\"term\",\"week\",\"is_spike_label\"]], on=[\"term\",\"week\"], how=\"left\")\n",
        "preds_valid = preds_valid.merge(eval_all[[\"term\",\"week\",\"is_spike_label\"]], on=[\"term\",\"week\"], how=\"left\")\n",
        "preds_test  = preds_test .merge(eval_all[[\"term\",\"week\",\"is_spike_label\"]], on=[\"term\",\"week\"], how=\"left\")\n",
        "\n",
        "# Build classifier mats from your existing tabular features (features_lgb)\n",
        "def mats_cls(ids_df):\n",
        "    part = ids_df[[\"term\",\"week\",\"is_spike_label\"]].merge(\n",
        "        df[[\"term\",\"week\"] + features_lgb], on=[\"term\",\"week\"], how=\"left\"\n",
        "    )\n",
        "    X = part[features_lgb].apply(pd.to_numeric, errors=\"coerce\")\n",
        "    # fill with TRAIN medians from your regression mats\n",
        "    med = X_train.median(numeric_only=True)\n",
        "    X = X.fillna(med)\n",
        "    y = part[\"is_spike_label\"].astype(int).values\n",
        "    return X, y\n",
        "\n",
        "X_trc, y_trc = mats_cls(preds_train)\n",
        "X_vac, y_vac = mats_cls(preds_valid)\n",
        "X_tec, y_tec = mats_cls(preds_test)\n",
        "\n",
        "# Train spike classifier (LightGBM)\n",
        "clf = lgb.LGBMClassifier(\n",
        "    n_estimators=2000,\n",
        "    learning_rate=0.03,\n",
        "    num_leaves=63,\n",
        "    min_data_in_leaf=10,\n",
        "    subsample=0.9,\n",
        "    colsample_bytree=0.9,\n",
        "    random_state=42\n",
        ")\n",
        "clf.fit(\n",
        "    X_trc, y_trc,\n",
        "    eval_set=[(X_vac, y_vac)],\n",
        "    eval_metric=\"auc\",\n",
        "    callbacks=[lgb.early_stopping(stopping_rounds=200), lgb.log_evaluation(100)]\n",
        ")\n",
        "\n",
        "# Probabilities for TEST\n",
        "p_spike_test = clf.predict_proba(X_tec)[:, 1]\n",
        "print(\"Spike classifier:\",\n",
        "      \"AUC =\", round(roc_auc_score(y_tec, p_spike_test), 3) if len(np.unique(y_tec))>1 else \"n/a\",\n",
        "      \"| AP =\",  round(average_precision_score(y_tec, p_spike_test), 3) if len(np.unique(y_tec))>1 else \"n/a\")\n",
        "\n"
      ],
      "metadata": {
        "colab": {
          "base_uri": "https://localhost:8080/"
        },
        "id": "Xon1AnzfSNKh",
        "outputId": "0532855d-0a28-4378-b8f9-e8e7d978d0c7"
      },
      "id": "Xon1AnzfSNKh",
      "execution_count": 13,
      "outputs": [
        {
          "output_type": "stream",
          "name": "stdout",
          "text": [
            "Training until validation scores don't improve for 200 rounds\n",
            "[100]\tvalid_0's auc: 0.785545\tvalid_0's binary_logloss: 1.09182\n",
            "[200]\tvalid_0's auc: 0.785498\tvalid_0's binary_logloss: 1.36344\n",
            "Early stopping, best iteration is:\n",
            "[13]\tvalid_0's auc: 0.763403\tvalid_0's binary_logloss: 0.930133\n",
            "Spike classifier: AUC = 0.864 | AP = 0.814\n"
          ]
        }
      ]
    },
    {
      "cell_type": "code",
      "source": [
        "\n",
        "# Ensure we have an upper envelope to cap extreme blended values\n",
        "if \"roll_max_8\" not in df.columns:\n",
        "    df = df.sort_values([\"term\",\"week\"]).copy()\n",
        "    df[\"roll_max_8\"] = (\n",
        "        df.groupby(\"term\")[\"weekly_score_norm\"]\n",
        "          .rolling(8, min_periods=1).max()\n",
        "          .reset_index(level=0, drop=True)\n",
        "    )\n",
        "\n",
        "test_with_env = preds_test.merge(df[[\"term\",\"week\",\"roll_max_8\"]],\n",
        "                                 on=[\"term\",\"week\"], how=\"left\")\n",
        "upper_cap = np.maximum(test_with_env[\"roll_max_8\"].values,\n",
        "                       preds_test[\"yhat_base\"].values)\n",
        "\n",
        "# Choose blending settings\n",
        "p_thr = 0.50       # spike prob threshold; try 0.4–0.6\n",
        "alpha_when_spike = 0.60  # blend weight when spike likely; try 0.4–0.7\n",
        "\n",
        "# If you trained an uplift model, use it; otherwise fallback to recent-max uplift\n",
        "have_uplift = \"uplift_pred\" in globals() or \"uplift_pred\" in locals()\n",
        "\n",
        "if have_uplift:\n",
        "    raw_uplift = uplift_pred  # should be same order as preds_test\n",
        "else:\n",
        "    # Fallback uplift: push toward recent envelope (conservative)\n",
        "    raw_uplift = (upper_cap - preds_test[\"yhat_base\"].values)\n",
        "\n",
        "# Blend only when spike probability is high\n",
        "alpha = (p_spike_test > p_thr).astype(float) * alpha_when_spike\n",
        "yhat_blend = preds_test[\"yhat_base\"].values + alpha * raw_uplift\n",
        "\n",
        "# Safety cap\n",
        "yhat_blend = np.minimum(yhat_blend, upper_cap)\n",
        "\n",
        "# Attach back to preds_test\n",
        "preds_test = preds_test.copy()\n",
        "preds_test[\"yhat_blend\"] = yhat_blend\n"
      ],
      "metadata": {
        "id": "QXmVop9YPzTA"
      },
      "id": "QXmVop9YPzTA",
      "execution_count": 14,
      "outputs": []
    },
    {
      "cell_type": "code",
      "source": [
        "p_thr = 0.50\n",
        "alpha_when_spike = 0.60\n",
        "alpha = (p_spike_test > p_thr).astype(float) * alpha_when_spike\n",
        "uplift_simple = upper_cap - preds_test[\"yhat_base\"].values\n",
        "yhat_blend = np.minimum(preds_test[\"yhat_base\"].values + alpha * uplift_simple, upper_cap)\n",
        "preds_test[\"yhat_blend\"] = yhat_blend\n"
      ],
      "metadata": {
        "id": "BHPw_271SaCI"
      },
      "id": "BHPw_271SaCI",
      "execution_count": 15,
      "outputs": []
    },
    {
      "cell_type": "code",
      "source": [
        "def eval_blend(p_thr, alpha_w, base, upper_cap, p_spike, y_true, y_tec_mask):\n",
        "    # --- Align all inputs to the same length ---\n",
        "    n = min(len(base), len(upper_cap), len(p_spike), len(y_true), len(y_tec_mask))\n",
        "    base        = base[:n]\n",
        "    upper_cap   = upper_cap[:n]\n",
        "    p_spike     = p_spike[:n]\n",
        "    y_true      = y_true[:n]\n",
        "    y_tec_mask  = y_tec_mask[:n]\n",
        "\n",
        "    # --- Compute blended prediction ---\n",
        "    alpha = (p_spike > p_thr).astype(float) * alpha_w\n",
        "    yhat  = np.minimum(base + alpha * (upper_cap - base), upper_cap)\n",
        "\n",
        "    # --- Compute RMSEs ---\n",
        "    rmse_all   = mean_squared_error(y_true, yhat)\n",
        "    rmse_stab  = mean_squared_error(y_true[y_tec_mask == 0],\n",
        "                                    yhat[y_tec_mask == 0]) if (y_tec_mask == 0).any() else np.nan\n",
        "    rmse_spike = mean_squared_error(y_true[y_tec_mask == 1],\n",
        "                                    yhat[y_tec_mask == 1]) if (y_tec_mask == 1).any() else np.nan\n",
        "    return rmse_all, rmse_stab, rmse_spike\n",
        "\n",
        "# --- Your data ---\n",
        "base = preds_test[\"yhat_base\"].values\n",
        "y    = preds_test[\"y\"].values\n",
        "p    = p_spike_test  # predicted spike probability for test set\n",
        "# y_tec is your spike/stable mask for the test set\n",
        "\n",
        "# --- Grid search ---\n",
        "grid_p   = [0.35, 0.4, 0.45, 0.5, 0.55, 0.6]\n",
        "grid_a   = [0.3, 0.4, 0.5, 0.6, 0.7]\n",
        "best = None\n",
        "\n",
        "for pt, aw in product(grid_p, grid_a):\n",
        "    rmse_all, rmse_st, rmse_sp = eval_blend(pt, aw, base, upper_cap, p, y, y_tec)\n",
        "    if best is None or rmse_sp < best[\"rmse_sp\"]:\n",
        "        best = {\"p_thr\": pt, \"alpha\": aw, \"rmse_all\": rmse_all, \"rmse_st\": rmse_st, \"rmse_sp\": rmse_sp}\n",
        "\n",
        "print(\"Best blend:\",\n",
        "      f\"p_thr={best['p_thr']}, alpha={best['alpha']}\",\n",
        "      f\"| RMSE all={best['rmse_all']:.2f}, stable={best['rmse_st']:.2f}, spike={best['rmse_sp']:.2f}\")\n"
      ],
      "metadata": {
        "colab": {
          "base_uri": "https://localhost:8080/"
        },
        "id": "LPG6GZhr4xHS",
        "outputId": "b07e1e5c-bf3c-4289-bc0e-799ed7aac3bd"
      },
      "id": "LPG6GZhr4xHS",
      "execution_count": 16,
      "outputs": [
        {
          "output_type": "stream",
          "name": "stdout",
          "text": [
            "Best blend: p_thr=0.35, alpha=0.7 | RMSE all=3.73, stable=0.01, spike=10.18\n"
          ]
        }
      ]
    },
    {
      "cell_type": "code",
      "source": [
        "preds_test[\"yhat_blend\"] = np.minimum(\n",
        "    base + ((p > best[\"p_thr\"]).astype(float) * best[\"alpha\"]) * (upper_cap - base),\n",
        "    upper_cap\n",
        ")\n",
        "\n",
        "per_term = preds_test.groupby(\"term\").apply(\n",
        "    lambda g: pd.Series({\n",
        "        \"rmse_base\":  mean_squared_error(g[\"y\"], g[\"yhat_base\"]),\n",
        "        \"rmse_blend\": mean_squared_error(g[\"y\"], g[\"yhat_blend\"]),\n",
        "        \"n\": len(g)\n",
        "    })\n",
        ").sort_values(\"rmse_blend\")\n",
        "print(per_term.head(10))\n",
        "print(per_term.tail(10))\n",
        "\n",
        "# Plot one improved term\n",
        "term_to_plot = per_term.index[0]\n",
        "g = preds_test[preds_test[\"term\"]==term_to_plot].sort_values(\"week\")\n",
        "plt.figure(figsize=(10,5))\n",
        "plt.plot(g[\"week\"], g[\"y\"], label=\"Actual\")\n",
        "plt.plot(g[\"week\"], g[\"yhat_base\"], label=\"Base\")\n",
        "plt.plot(g[\"week\"], g[\"yhat_blend\"], label=\"Blended\")\n",
        "plt.title(f\"{term_to_plot} — Test\")\n",
        "plt.legend(); plt.tight_layout(); plt.show()\n"
      ],
      "metadata": {
        "colab": {
          "base_uri": "https://localhost:8080/",
          "height": 915
        },
        "id": "5aepkQjBK_RX",
        "outputId": "76755c9d-79b8-45f5-b1d7-a15315f59f89"
      },
      "id": "5aepkQjBK_RX",
      "execution_count": 17,
      "outputs": [
        {
          "output_type": "stream",
          "name": "stdout",
          "text": [
            "                                        rmse_base  rmse_blend     n\n",
            "term                                                               \n",
            "netflix stock                            0.010487    0.010487  12.0\n",
            "is hulu down                             0.010997    0.010997  12.0\n",
            "mlb draft time                           0.571686    0.053046  12.0\n",
            "barcelona - como                         0.573615    0.054975  12.0\n",
            "disney plus cancelled shows              0.623542    0.071416  12.0\n",
            "netflix pride and prejudice cast         0.630470    0.078344  12.0\n",
            "netflix teaser trailer stranger things   0.735006    0.132688  11.0\n",
            "premier league summer series             0.660988    0.166868  12.0\n",
            "premier league                           0.174339    0.174339  12.0\n",
            "fc seoul vs barcelona                    2.103460    0.189425  12.0\n",
            "                                     rmse_base  rmse_blend     n\n",
            "term                                                            \n",
            "harry potter hbo series               2.337190    2.337190  12.0\n",
            "ufc paramount                         2.978655    2.978655  11.0\n",
            "untamed netflix                       3.092902    3.092902  10.0\n",
            "wsg tirol - real madrid               5.145635    5.145635  12.0\n",
            "hulu alien earth                      5.910130    5.910130  11.0\n",
            "daegu - barcelona                     6.058970    6.058970  11.0\n",
            "real madrid                           9.243932    9.243932  12.0\n",
            "manchester united                    10.688527   10.688527  12.0\n",
            "little league softball world series  18.369913   18.369913  12.0\n",
            "ufc fight night                      29.712262   29.712262  12.0\n"
          ]
        },
        {
          "output_type": "display_data",
          "data": {
            "text/plain": [
              "<Figure size 1000x500 with 1 Axes>"
            ],
            "image/png": "[encoded data removed]"
          },
          "metadata": {}
        }
      ]
    },
    {
      "cell_type": "code",
      "source": [
        "preds_test[\"resid\"] = (preds_test[\"y\"] - preds_test[\"yhat_base\"]).abs()\n",
        "thr = preds_test[\"resid\"].mean() + 2 * preds_test[\"resid\"].std()\n",
        "preds_test[\"p_spike\"] = (preds_test[\"resid\"] > thr).astype(float)  # 1.0 or 0.0\n"
      ],
      "metadata": {
        "id": "Dm30nU0yVdzP"
      },
      "id": "Dm30nU0yVdzP",
      "execution_count": 18,
      "outputs": []
    },
    {
      "cell_type": "code",
      "source": [
        "SEQ_LEN = 12\n",
        "TARGET = \"weekly_score_norm\"\n",
        "EXO_CANDS = [\"sin_woy\",\"cos_woy\",\"diff_1\",\"roll_std_8\",\"roll_max_8\"]  # use what you have\n",
        "EXO = [c for c in EXO_CANDS if c in df.columns]  # auto-detect\n",
        "\n",
        "def make_sequences(df, seq_len=SEQ_LEN, target=TARGET, exos=EXO):\n",
        "    rows = []\n",
        "    for term, g in df.sort_values([\"term\",\"week\"]).groupby(\"term\"):\n",
        "        g = g.sort_values(\"week\").copy()\n",
        "        y = g[target].astype(float).values\n",
        "        mu, sigma = np.nanmean(y), np.nanstd(y) + 1e-6\n",
        "        y_std = (y - mu) / sigma\n",
        "\n",
        "        if exos:\n",
        "            E = g[exos].astype(float).values\n",
        "            Emu = np.nanmean(E, axis=0); Esd = np.nanstd(E, axis=0) + 1e-6\n",
        "            E_std = (E - Emu) / Esd\n",
        "            def feats(i,j): return np.c_[y_std[i:j], E_std[i:j]]\n",
        "        else:\n",
        "            def feats(i,j): return y_std[i:j][:,None]\n",
        "\n",
        "        for i in range(len(g) - seq_len):\n",
        "            j = i + seq_len\n",
        "            rows.append({\n",
        "                \"term\": term,\n",
        "                \"week\": g[\"week\"].iloc[j],\n",
        "                \"split\": g[\"split\"].iloc[j],\n",
        "                \"X\": feats(i,j).astype(\"float32\"),\n",
        "                \"y_std\": np.float32(y_std[j]),\n",
        "                \"y\": np.float32(y[j]),\n",
        "                \"mu\": mu, \"sigma\": sigma\n",
        "            })\n",
        "    seq = pd.DataFrame(rows)\n",
        "    def mats(part):\n",
        "        X = np.stack(part[\"X\"].values)\n",
        "        y_std = part[\"y_std\"].values\n",
        "        y = part[\"y\"].values\n",
        "        info = part[[\"term\",\"week\",\"mu\",\"sigma\"]].reset_index(drop=True)\n",
        "        return X, y_std, y, info\n",
        "    Xtr, ytr_s, ytr, info_tr = mats(seq[seq[\"split\"]==\"train\"])\n",
        "    Xva, yva_s, yva, info_va = mats(seq[seq[\"split\"]==\"valid\"])\n",
        "    Xte, yte_s, yte, info_te = mats(seq[seq[\"split\"]==\"test\"])\n",
        "    return (Xtr,ytr_s,ytr,info_tr), (Xva,yva_s,yva,info_va), (Xte,yte_s,yte,info_te)\n",
        "\n",
        "(Xtr,ytr_s,ytr,info_tr),(Xva,yva_s,yva,info_va),(Xte,yte_s,yte,info_te) = make_sequences(df)\n",
        "print(\"Shapes:\", Xtr.shape, Xva.shape, Xte.shape, \"  channels:\", Xtr.shape[2])\n"
      ],
      "metadata": {
        "colab": {
          "base_uri": "https://localhost:8080/"
        },
        "id": "7mTFHDQ_bUkU",
        "outputId": "a3051c81-745f-4e73-f594-1c649da682dd"
      },
      "id": "7mTFHDQ_bUkU",
      "execution_count": 19,
      "outputs": [
        {
          "output_type": "stream",
          "name": "stdout",
          "text": [
            "Shapes: (5492, 12, 6) (312, 12, 6) (312, 12, 6)   channels: 6\n"
          ]
        }
      ]
    },
    {
      "cell_type": "code",
      "source": [
        "# Detect spikes from actual values in your sequence sets\n",
        "def detect_spike_labels(y_true, mu, sigma, std_preds=None, thr_std=None):\n",
        "    \"\"\"\n",
        "    y_true : array of original target values (not std)\n",
        "    mu, sigma : per-sample scaling factors from make_sequences\n",
        "    std_preds : optional predicted standardized y (not used here for training labels)\n",
        "    thr_std : optional fixed threshold in original units; if None, compute from data\n",
        "    \"\"\"\n",
        "    resid = np.abs(y_true - mu)  # placeholder if no predictions yet; you can adapt\n",
        "    # Here, since we don't have preds yet, we can just use \"y_true\" deviation from mean\n",
        "    # Better: run a simple baseline model on train, compute residuals, then threshold.\n",
        "    if thr_std is None:\n",
        "        thr = resid.mean() + 2 * resid.std()\n",
        "    else:\n",
        "        thr = thr_std\n",
        "    return (resid > thr).astype(np.float32), thr\n",
        "\n",
        "# Example: Use baseline mean as prediction to get crude residuals\n",
        "def spike_labels_from_baseline(y, mu):\n",
        "    resid = np.abs(y - mu)\n",
        "    thr = resid.mean() + 2 * resid.std()\n",
        "    return (resid > thr).astype(np.float32), thr\n",
        "\n",
        "# Train\n",
        "ytr_spk, thr_train = spike_labels_from_baseline(ytr, info_tr[\"mu\"].values)\n",
        "yva_spk, _         = spike_labels_from_baseline(yva, info_va[\"mu\"].values)\n",
        "yte_spk, _         = spike_labels_from_baseline(yte, info_te[\"mu\"].values)\n",
        "\n",
        "print(f\"Spike threshold (train): {thr_train:.2f}\")\n",
        "print(f\"Spike ratio: train={ytr_spk.mean():.3f}, valid={yva_spk.mean():.3f}, test={yte_spk.mean():.3f}\")\n"
      ],
      "metadata": {
        "colab": {
          "base_uri": "https://localhost:8080/"
        },
        "id": "csDzVr9kc5hE",
        "outputId": "d9c6f29b-2b67-44d4-d37d-8930601ebe6c"
      },
      "id": "csDzVr9kc5hE",
      "execution_count": 20,
      "outputs": [
        {
          "output_type": "stream",
          "name": "stdout",
          "text": [
            "Spike threshold (train): 18.94\n",
            "Spike ratio: train=0.048, valid=0.038, test=0.067\n"
          ]
        }
      ]
    },
    {
      "cell_type": "code",
      "source": [],
      "metadata": {
        "id": "vkm5EpyEtSpv"
      },
      "id": "vkm5EpyEtSpv",
      "execution_count": null,
      "outputs": []
    },
    {
      "cell_type": "code",
      "source": [],
      "metadata": {
        "id": "o8h7GVr2tSsX"
      },
      "id": "o8h7GVr2tSsX",
      "execution_count": null,
      "outputs": []
    }
  ],
  "metadata": {
    "colab": {
      "provenance": []
    },
    "language_info": {
      "name": "python"
    },
    "kernelspec": {
      "name": "python3",
      "display_name": "Python 3"
    }
  },
  "nbformat": 4,
  "nbformat_minor": 5
}
